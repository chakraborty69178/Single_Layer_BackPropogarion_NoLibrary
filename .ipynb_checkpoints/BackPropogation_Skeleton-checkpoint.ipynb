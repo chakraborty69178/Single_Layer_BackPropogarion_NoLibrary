{
 "cells": [
  {
   "cell_type": "code",
   "execution_count": 1,
   "metadata": {},
   "outputs": [],
   "source": [
    "import numpy as np\n",
    "import pandas as pd"
   ]
  },
  {
   "cell_type": "markdown",
   "metadata": {},
   "source": [
    "# Creating a NN structure\n",
    "\n",
    "        The below class is to create a single neuron with weights"
   ]
  },
  {
   "cell_type": "code",
   "execution_count": 2,
   "metadata": {},
   "outputs": [],
   "source": [
    "class Layer:\n",
    "        \n",
    "    def initializeLayer(self,layerSize,prevLayerSize):\n",
    "        self.weights =np.array([np.random.rand(prevLayerSize)])\n",
    "        self.layerSize = layerSize\n",
    "        count =0\n",
    "        for i in range(layerSize-1):\n",
    "            weight = np.array([np.random.rand(prevLayerSize)])\n",
    "            self.weights= np.vstack([self.weights,weight])\n",
    "            self.weights = np.array(self.weights)\n",
    "            \n",
    "    def getWeights(self):\n",
    "        return self.weights\n",
    "    def getLayerSize(self):\n",
    "        return self.weights"
   ]
  },
  {
   "cell_type": "raw",
   "metadata": {},
   "source": []
  },
  {
   "cell_type": "code",
   "execution_count": 13,
   "metadata": {},
   "outputs": [
    {
     "name": "stdout",
     "output_type": "stream",
     "text": [
      "#initial Weights of hidden Layer\n",
      "\n",
      "\n",
      "[[0.83792678 0.77447853 0.96256927]\n",
      " [0.19041368 0.36418753 0.67300466]\n",
      " [0.88119971 0.97738752 0.26592086]\n",
      " [0.04794752 0.1749117  0.1414844 ]\n",
      " [0.69492009 0.1507217  0.54292168]]\n",
      "\n",
      "\n",
      "\n",
      "#initial Weights of output Layer\n",
      "\n",
      "\n",
      "[[0.29975519 0.51558966 0.14746423 0.40151323 0.03103303]]\n"
     ]
    }
   ],
   "source": [
    "inputLayerSize = 3 \n",
    "hiddenLayer = Layer()\n",
    "hiddenLayer.initializeLayer(5,inputLayerSize)\n",
    "print(\"#initial Weights of hidden Layer\")\n",
    "print(\"\\n\")\n",
    "print(hiddenLayer.getWeights())\n",
    "\n",
    "print(\"\\n\\n\")\n",
    "\n",
    "outputLayer = Layer()\n",
    "outputLayer.initializeLayer(1,5)\n",
    "print(\"#initial Weights of output Layer\")\n",
    "print(\"\\n\")\n",
    "print(outputLayer.getWeights())"
   ]
  },
  {
   "cell_type": "code",
   "execution_count": 30,
   "metadata": {},
   "outputs": [],
   "source": [
    "def sigmoid(x):\n",
    "    return 1/(1 + np.exp(-x))\n",
    "\n",
    "def feedForward(inputLayer,hiddenLayer,outputLayer):\n",
    "    output =0\n",
    "    hiddenLayerWeights = np.copy(hiddenLayer.getWeights())\n",
    "    outputLayerWeights = np.copy(outputLayer.getWeights())\n",
    "    \n",
    "    hiddenLayerOutput = []\n",
    "    for i in range(len(hiddenLayer.getWeights())):\n",
    "        neuron = np.copy(hiddenLayerWeights[i])\n",
    "        for j in range(len(inputLayer)):\n",
    "            hiddenLayerOutput.append(sigmoid(np.sum(inputLayer[j]*neuron)))\n",
    "    hiddenLayerOutput_np = np.array(hiddenLayerOutput)\n",
    "    for i in range(len(outputLayer.getWeights())):\n",
    "        neuron = np.copy(outputLayerWeights[i])\n",
    "        for j in range(len(hiddenLayerOutput_np)):\n",
    "            output = sigmoid(np.sum(hiddenLayerOutput_np[j]*neuron))\n",
    "            \n",
    "    return output"
   ]
  },
  {
   "cell_type": "code",
   "execution_count": 31,
   "metadata": {},
   "outputs": [
    {
     "data": {
      "text/plain": [
       "0.6676726811670646"
      ]
     },
     "execution_count": 31,
     "metadata": {},
     "output_type": "execute_result"
    }
   ],
   "source": [
    "inputLayer = np.array([1,1,0])\n",
    "feedForward(inputLayer,hiddenLayer,outputLayer)"
   ]
  },
  {
   "cell_type": "code",
   "execution_count": null,
   "metadata": {},
   "outputs": [],
   "source": [
    "def meanSquareError(output, expectedOut):\n",
    "    return ((output-expectedOut)**2)/2"
   ]
  }
 ],
 "metadata": {
  "kernelspec": {
   "display_name": "Python 3",
   "language": "python",
   "name": "python3"
  },
  "language_info": {
   "codemirror_mode": {
    "name": "ipython",
    "version": 3
   },
   "file_extension": ".py",
   "mimetype": "text/x-python",
   "name": "python",
   "nbconvert_exporter": "python",
   "pygments_lexer": "ipython3",
   "version": "3.7.6"
  }
 },
 "nbformat": 4,
 "nbformat_minor": 4
}
