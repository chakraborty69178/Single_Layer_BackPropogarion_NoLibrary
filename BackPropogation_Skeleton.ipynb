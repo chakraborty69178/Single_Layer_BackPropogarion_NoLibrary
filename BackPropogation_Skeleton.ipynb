{
 "cells": [
  {
   "cell_type": "code",
   "execution_count": 10,
   "metadata": {},
   "outputs": [],
   "source": [
    "import numpy as np\n",
    "import pandas as pd"
   ]
  },
  {
   "cell_type": "markdown",
   "metadata": {},
   "source": [
    "# Creating a NN structure\n",
    "\n",
    "        The below class is to create a single neuron with weights"
   ]
  },
  {
   "cell_type": "code",
   "execution_count": 54,
   "metadata": {},
   "outputs": [],
   "source": [
    "class Layer:\n",
    "        \n",
    "    def initializeLayer(self,layerSize,prevLayerSize):\n",
    "        self.weights =np.array([np.random.rand(prevLayerSize)])\n",
    "        count =0\n",
    "        for i in range(layerSize-1):\n",
    "            weight = np.array([np.random.rand(prevLayerSize)])\n",
    "            self.weights= np.vstack([self.weights,weight])\n",
    "            self.weights = np.array(self.weights)\n",
    "            \n",
    "    def printWeights(self):\n",
    "        print(self.weights)"
   ]
  },
  {
   "cell_type": "raw",
   "metadata": {},
   "source": []
  },
  {
   "cell_type": "code",
   "execution_count": 61,
   "metadata": {},
   "outputs": [
    {
     "name": "stdout",
     "output_type": "stream",
     "text": [
      "#initial Weights of hidden Layer\n",
      "\n",
      "\n",
      "[[0.09633987 0.61117789 0.0803517 ]\n",
      " [0.49341438 0.57113084 0.91153339]\n",
      " [0.3489184  0.74298195 0.10186791]\n",
      " [0.31059617 0.8042466  0.16659647]\n",
      " [0.543935   0.62274539 0.60869922]]\n",
      "\n",
      "\n",
      "\n",
      "#initial Weights of output Layer\n",
      "\n",
      "\n",
      "[[0.7991179  0.23118943 0.36658371 0.79481272 0.70165994]]\n"
     ]
    }
   ],
   "source": [
    "inputLayerSize = 3 \n",
    "hiddenLayer = Layer()\n",
    "hiddenLayer.initializeLayer(5,inputLayerSize)\n",
    "print(\"#initial Weights of hidden Layer\")\n",
    "print(\"\\n\")\n",
    "hiddenLayer.printWeights()\n",
    "\n",
    "print(\"\\n\\n\")\n",
    "\n",
    "outputLayer = Layer()\n",
    "outputLayer.initializeLayer(1,5)\n",
    "print(\"#initial Weights of output Layer\")\n",
    "print(\"\\n\")\n",
    "outputLayer.printWeights()"
   ]
  },
  {
   "cell_type": "code",
   "execution_count": null,
   "metadata": {},
   "outputs": [],
   "source": [
    "def feedForward(inputLayer,hiddenLayer,outputLayer):\n",
    "    output =0\n",
    "    for i in range(len(inputLayer)):\n",
    "        \n",
    "    return output"
   ]
  }
 ],
 "metadata": {
  "kernelspec": {
   "display_name": "Python 3",
   "language": "python",
   "name": "python3"
  },
  "language_info": {
   "codemirror_mode": {
    "name": "ipython",
    "version": 3
   },
   "file_extension": ".py",
   "mimetype": "text/x-python",
   "name": "python",
   "nbconvert_exporter": "python",
   "pygments_lexer": "ipython3",
   "version": "3.7.6"
  }
 },
 "nbformat": 4,
 "nbformat_minor": 4
}
